{
  "cells": [
    {
      "cell_type": "code",
      "execution_count": 2,
      "metadata": {
        "id": "H49c5cxY-0gz"
      },
      "outputs": [],
      "source": [
        "import torch\n",
        "import torchvision\n",
        "import torch.nn.functional as F\n",
        "import torch.nn as nn\n",
        "import torch.optim as optim\n",
        "import random\n",
        "from torch.utils import data as wrapper\n",
        "import matplotlib.pyplot as plt\n",
        "from torchvision import datasets, transforms\n",
        "import numpy as np\n",
        "import tqdm\n",
        "import os"
      ]
    },
    {
      "cell_type": "code",
      "execution_count": 3,
      "metadata": {
        "id": "Ih3bE2Tv_1n8"
      },
      "outputs": [],
      "source": [
        "class MNIST10Linear(nn.Module):\n",
        "      def __init__(self):\n",
        "          super( MNIST10Linear, self).__init__()\n",
        "          self.fc1 = nn.Linear(14*14, 64) ## <-----   Diminui os neurinios de entreda para acomodar a imagem comprimida\n",
        "          self.fc2 = nn.Linear(64, 64)\n",
        "          self.fc3 = nn.Linear(64, 64)\n",
        "          self.fc4 = nn.Linear(64, 10)\n",
        "\n",
        "      def forward(self, x):\n",
        "          x = F.relu(self.fc1(x))\n",
        "          x = F.relu(self.fc2(x))\n",
        "          x = F.relu(self.fc3(x))\n",
        "          x = self.fc4(x)\n",
        "          return F.log_softmax(x, dim=1)"
      ]
    },
    {
      "cell_type": "code",
      "execution_count": 4,
      "metadata": {
        "id": "VAJDZQXEbRTo"
      },
      "outputs": [],
      "source": [
        "def cross_entropy_for_onehot(pred, target):\n",
        "    return torch.mean(torch.sum(- target * F.log_softmax(pred, dim=-1), 0))"
      ]
    },
    {
      "cell_type": "code",
      "execution_count": 5,
      "metadata": {
        "id": "iWJo9sWF_ZFy",
        "colab": {
          "base_uri": "https://localhost:8080/"
        },
        "outputId": "d72bff98-207b-4945-995c-a6a7b4c1d579"
      },
      "outputs": [
        {
          "output_type": "stream",
          "name": "stdout",
          "text": [
            "Downloading http://yann.lecun.com/exdb/mnist/train-images-idx3-ubyte.gz\n",
            "Downloading http://yann.lecun.com/exdb/mnist/train-images-idx3-ubyte.gz to MNIST/raw/train-images-idx3-ubyte.gz\n"
          ]
        },
        {
          "output_type": "stream",
          "name": "stderr",
          "text": [
            "100%|██████████| 9912422/9912422 [00:00<00:00, 90040804.61it/s]\n"
          ]
        },
        {
          "output_type": "stream",
          "name": "stdout",
          "text": [
            "Extracting MNIST/raw/train-images-idx3-ubyte.gz to MNIST/raw\n",
            "\n",
            "Downloading http://yann.lecun.com/exdb/mnist/train-labels-idx1-ubyte.gz\n",
            "Downloading http://yann.lecun.com/exdb/mnist/train-labels-idx1-ubyte.gz to MNIST/raw/train-labels-idx1-ubyte.gz\n"
          ]
        },
        {
          "output_type": "stream",
          "name": "stderr",
          "text": [
            "100%|██████████| 28881/28881 [00:00<00:00, 50452184.02it/s]\n"
          ]
        },
        {
          "output_type": "stream",
          "name": "stdout",
          "text": [
            "Extracting MNIST/raw/train-labels-idx1-ubyte.gz to MNIST/raw\n",
            "\n",
            "Downloading http://yann.lecun.com/exdb/mnist/t10k-images-idx3-ubyte.gz\n",
            "Downloading http://yann.lecun.com/exdb/mnist/t10k-images-idx3-ubyte.gz to MNIST/raw/t10k-images-idx3-ubyte.gz\n"
          ]
        },
        {
          "output_type": "stream",
          "name": "stderr",
          "text": [
            "100%|██████████| 1648877/1648877 [00:00<00:00, 38832815.24it/s]\n"
          ]
        },
        {
          "output_type": "stream",
          "name": "stdout",
          "text": [
            "Extracting MNIST/raw/t10k-images-idx3-ubyte.gz to MNIST/raw\n",
            "\n",
            "Downloading http://yann.lecun.com/exdb/mnist/t10k-labels-idx1-ubyte.gz\n",
            "Downloading http://yann.lecun.com/exdb/mnist/t10k-labels-idx1-ubyte.gz to MNIST/raw/t10k-labels-idx1-ubyte.gz\n"
          ]
        },
        {
          "output_type": "stream",
          "name": "stderr",
          "text": [
            "100%|██████████| 4542/4542 [00:00<00:00, 6566883.41it/s]\n"
          ]
        },
        {
          "output_type": "stream",
          "name": "stdout",
          "text": [
            "Extracting MNIST/raw/t10k-labels-idx1-ubyte.gz to MNIST/raw\n",
            "\n"
          ]
        }
      ],
      "source": [
        "#compression_transformation = transforms.Lambda(lambda x: hensel_compression(x))\n",
        "compression_transformation = transforms.Lambda(lambda x: x)\n",
        "\n",
        "mnistTransformation = transforms.Compose(\n",
        "          [transforms.ToTensor(), compression_transformation])\n",
        "\n",
        "\n",
        "\n",
        "\n",
        "train = datasets.MNIST(\"\",\n",
        "                      train = True,\n",
        "                      download = True,\n",
        "                      transform = mnistTransformation)\n",
        "test = datasets.MNIST(\"\",\n",
        "                      train = False,\n",
        "                      download = False,\n",
        "                      transform = mnistTransformation)\n",
        "\n",
        "trainset = wrapper.DataLoader(train, batch_size=30, shuffle=False)\n",
        "testset = wrapper.DataLoader(test, batch_size=30, shuffle=False)"
      ]
    },
    {
      "cell_type": "code",
      "execution_count": 6,
      "metadata": {
        "colab": {
          "base_uri": "https://localhost:8080/"
        },
        "id": "_CJQ7Z11radI",
        "outputId": "74c86ae1-3dc0-4e1c-82fa-eb7d717f2f52"
      },
      "outputs": [
        {
          "output_type": "execute_result",
          "data": {
            "text/plain": [
              "MNIST10Linear(\n",
              "  (fc1): Linear(in_features=196, out_features=64, bias=True)\n",
              "  (fc2): Linear(in_features=64, out_features=64, bias=True)\n",
              "  (fc3): Linear(in_features=64, out_features=64, bias=True)\n",
              "  (fc4): Linear(in_features=64, out_features=10, bias=True)\n",
              ")"
            ]
          },
          "metadata": {},
          "execution_count": 6
        }
      ],
      "source": [
        "_epoch_count = []\n",
        "loss_values = []\n",
        "test_loss_values = []\n",
        "\n",
        "epochs = 5\n",
        "torch.random.manual_seed(70)\n",
        "net = MNIST10Linear()\n",
        "optimizer = optim.Adam(net.parameters(), lr=0.01)\n",
        "\n",
        "device = \"cuda\" if torch.cuda.is_available() else \"cpu\"\n",
        "net.to(device)"
      ]
    },
    {
      "cell_type": "markdown",
      "metadata": {
        "id": "lJDSWsy6AjmB"
      },
      "source": [
        "\n",
        "\n",
        "_global loss\n",
        "\n",
        "for epoch in range(epochs):\n",
        "  for batch, dset in enumerate(trainset):\n",
        "    X, y = dset\n",
        "    X = X.to(device)\n",
        "    y = y.to(device)\n",
        "    net.train()\n",
        "    output = net(X.view(-1,28*28))\n",
        "    loss = F.nll_loss(output, y)\n",
        "    optimizer.zero_grad()\n",
        "    loss.backward(retain_graph=True)\n",
        "    optimizer.step()\n",
        "    #print(f\"epoch: {epoch}, loss: {loss}\")\n",
        "\n",
        "  with torch.inference_mode(): # turns off grafient tracking\n",
        "    for batch, test_dset in enumerate(testset):\n",
        "      X_test, y_test = test_dset\n",
        "      X_test = X_test.to(device)\n",
        "      y_test = y_test.to(device)\n",
        "      # Do the forward pass\n",
        "      test_pred = net(X_test.view(-1,28*28))\n",
        "\n",
        "      # Calculate the loss\n",
        "      test_loss = F.nll_loss(test_pred, y_test)\n",
        "\n",
        "  # Print out whatss happening\n",
        "  if True :\n",
        "    epoch_count.append(epoch)\n",
        "    loss_values.append(loss)\n",
        "    test_loss_values.append(test_loss)\n",
        "    print(f\"Epoch: {epoch} | Loss: {loss} | Test loss: {test_loss}\")\n",
        "\n",
        "#dy_dx = torch.autograd.grad(loss, net.parameters())\n",
        "#original_dy_dx = list((_.clone() for _ in dy_dx))"
      ]
    },
    {
      "cell_type": "code",
      "execution_count": 7,
      "metadata": {
        "id": "-jExIFtJMn8v"
      },
      "outputs": [],
      "source": [
        "def tensor_to_PIL(img):\n",
        "  tt = transforms.ToPILImage()\n",
        "  PIL_image = tt(img.cpu())\n",
        "  return PIL_image"
      ]
    },
    {
      "cell_type": "code",
      "execution_count": 8,
      "metadata": {
        "id": "y3F3JlxvNJLg"
      },
      "outputs": [],
      "source": [
        "def batch_to_PIL(X):\n",
        "  out = map(tensor_to_PIL, X)\n",
        "  return list(out)"
      ]
    },
    {
      "cell_type": "code",
      "execution_count": 9,
      "metadata": {
        "id": "xrGLRLJKSHyR"
      },
      "outputs": [],
      "source": [
        "def run_once(f):\n",
        "    def wrapper(*args, **kwargs):\n",
        "        if not wrapper.has_run:\n",
        "            wrapper.has_run = True\n",
        "            return f(*args, **kwargs)\n",
        "    wrapper.has_run = False\n",
        "    return wrapper"
      ]
    },
    {
      "cell_type": "code",
      "execution_count": 10,
      "metadata": {
        "id": "IW4l8J3QMaSZ"
      },
      "outputs": [],
      "source": [
        "@run_once\n",
        "def show_image_compressed(img):\n",
        "  plt.imshow(img)\n",
        "  plt.title(\"Reconstructed image\")"
      ]
    },
    {
      "cell_type": "code",
      "execution_count": 11,
      "metadata": {
        "id": "Ua8oakt7NXli"
      },
      "outputs": [],
      "source": [
        "@run_once\n",
        "def show_image_original(img):\n",
        "  plt.imshow(img)\n",
        "  plt.title(\"Original image\")"
      ]
    },
    {
      "cell_type": "code",
      "execution_count": 12,
      "metadata": {
        "id": "8yrmmAdgNmym"
      },
      "outputs": [],
      "source": [
        "def show_image(img):\n",
        "  plt.imshow(img)\n",
        "  plt.title(\"Image\")\n",
        "  #print(\"Onehot label is %d.\" % torch.argmax(dummy_label, dim=-1))"
      ]
    },
    {
      "cell_type": "code",
      "execution_count": 13,
      "metadata": {
        "id": "xlIWj072-3Ky"
      },
      "outputs": [],
      "source": [
        "def hensel_compression(image_to_compress) -> torch.Tensor:\n",
        "  dimension = image_to_compress.shape[-1]\n",
        "  parser_x = 0\n",
        "  parser_y = 0\n",
        "  compressed_row = []\n",
        "  compressed_image_list = []\n",
        "  show_image_original(image_to_compress)\n",
        "  while parser_y+2<=dimension:\n",
        "    while parser_x+2<=dimension:\n",
        "      cell = image_to_compress[..., parser_y:parser_y+2, parser_x:parser_x+2]\n",
        "      compression = 0\n",
        "      for enum, elem in enumerate(cell.flatten().tolist()):\n",
        "        compression += elem*(0.001**enum)\n",
        "      compressed_row.append(compression)\n",
        "      parser_x = parser_x+2\n",
        "    compressed_image_list.append(torch.tensor(compressed_row))\n",
        "    compressed_row=[]\n",
        "    show_image_compressed(tensor_to_PIL(torch.stack(compressed_image_list)))\n",
        "    parser_y = parser_y+2\n",
        "    parser_x = 0\n",
        "  compressed_image = torch.stack(compressed_image_list)\n",
        "  compressed_image_unsqueezed = torch.unsqueeze(compressed_image, dim=0)\n",
        "  return compressed_image_unsqueezed\n",
        "\n"
      ]
    },
    {
      "cell_type": "code",
      "execution_count": 14,
      "metadata": {
        "id": "qpsx9heIIkR9"
      },
      "outputs": [],
      "source": [
        "#def hensel_compression(image_to_compress) -> torch.Tensor:\n",
        "#  dimension = image_to_compress.shape[-1]\n",
        "#  parser_x = 0\n",
        "#  parser_y = 0\n",
        "#  compressed_row = []\n",
        "#  compressed_image_list = []\n",
        "#  show_image_original(image_to_compress)\n",
        "#  while parser_y+2<=dimension:\n",
        "#    while parser_x+2<=dimension:\n",
        "#      cell = image_to_compress[..., parser_x:parser_x+2, parser_y:parser_y+2]\n",
        "#      compression = 0\n",
        "#      for enum, elem in enumerate(cell.flatten().tolist()):\n",
        "#        compression += elem*(3**enum)\n",
        "#      compressed_row.append(compression)\n",
        "#      parser_x = parser_x+2\n",
        "#    compressed_image_list.append(torch.tensor(compressed_row))\n",
        "#    compressed_row=[]\n",
        "#    show_image_compressed(tensor_to_PIL(torch.stack(compressed_image_list)))\n",
        "#    parser_y = parser_y+2\n",
        "#    parser_x = 0\n",
        "#  compressed_image = torch.stack(compressed_image_list)\n",
        "#  compressed_image_unsqueezed = torch.unsqueeze(compressed_image, dim=0)\n",
        "#  return compressed_image_unsqueezed"
      ]
    },
    {
      "cell_type": "code",
      "execution_count": 15,
      "metadata": {
        "id": "4KsPCpr_Xn5y"
      },
      "outputs": [],
      "source": [
        "def compress_batch(batch):\n",
        "  batch = batch.cpu()\n",
        "  return torch.stack(list(map(hensel_compression, batch.squeeze()))).to(device)"
      ]
    },
    {
      "cell_type": "code",
      "execution_count": 16,
      "metadata": {
        "colab": {
          "base_uri": "https://localhost:8080/",
          "height": 469
        },
        "id": "R3xjeNM-zM5k",
        "outputId": "5269e7d8-f749-4056-d79f-416078039e24"
      },
      "outputs": [
        {
          "output_type": "execute_result",
          "data": {
            "text/plain": [
              "torch.Size([28, 28])"
            ]
          },
          "metadata": {},
          "execution_count": 16
        },
        {
          "output_type": "display_data",
          "data": {
            "text/plain": [
              "<Figure size 640x480 with 1 Axes>"
            ],
            "image/png": "[encoded data removed]"
          },
          "metadata": {}
        }
      ],
      "source": [
        "X = next(iter(trainset))\n",
        "#print(X) #-> zip(image_batch, label_batch)\n",
        "#compress_batch = lambda x: hensel_compression(x)\n",
        "\n",
        "\n",
        "show_image(X[0][0].squeeze())\n",
        "X[0][0].squeeze().shape"
      ]
    },
    {
      "cell_type": "code",
      "execution_count": 17,
      "metadata": {
        "colab": {
          "base_uri": "https://localhost:8080/",
          "height": 452
        },
        "id": "QTDeXNZ4TJBx",
        "outputId": "1c8b3e40-ab9f-40e4-f2ff-818a1e38f1d8"
      },
      "outputs": [
        {
          "output_type": "display_data",
          "data": {
            "text/plain": [
              "<Figure size 640x480 with 1 Axes>"
            ],
            "image/png": "[encoded data removed]"
          },
          "metadata": {}
        }
      ],
      "source": [
        "image_to_compress = X[0][0].squeeze()\n",
        "compressed = hensel_compression(image_to_compress)\n",
        "show_image(compressed[0])"
      ]
    },
    {
      "cell_type": "code",
      "execution_count": 18,
      "metadata": {
        "colab": {
          "base_uri": "https://localhost:8080/"
        },
        "id": "MqzUPX3BVGdV",
        "outputId": "5a498108-daac-458b-bd75-ac682e273984"
      },
      "outputs": [
        {
          "output_type": "execute_result",
          "data": {
            "text/plain": [
              "torch.Size([14, 14])"
            ]
          },
          "metadata": {},
          "execution_count": 18
        }
      ],
      "source": [
        "compressed[0].shape"
      ]
    },
    {
      "cell_type": "code",
      "execution_count": 21,
      "metadata": {
        "id": "1-8DhqInyG-5"
      },
      "outputs": [],
      "source": [
        "def train_metric_network():\n",
        "  global loss\n",
        "  optimizer_metric = optim.Adam(net_metric.parameters(), lr=0.01)\n",
        "  device = \"cuda\" if torch.cuda.is_available() else \"cpu\"\n",
        "  net_metric.to(device)\n",
        "\n",
        "  for epoch in range(epochs):\n",
        "    for batch, dset in enumerate(trainset):\n",
        "      X, y = dset\n",
        "      X = X.to(device)\n",
        "      print(\"printing x size\")\n",
        "      print(X.shape)\n",
        "      y = y.to(device)\n",
        "      net_metric.train()\n",
        "      X = compress_batch(X)\n",
        "      print(\"X compressed_shape\", X.shape)\n",
        "      show_image(batch_to_PIL(X)[0])\n",
        "      # output = net_metric(torch.stack(list(map(compressed_batch, X))).to(device).view(-1,14*14))\n",
        "      output = net_metric(X.view(-1,14*14))\n",
        "      print(\"output_size\", output.shape)\n",
        "      print(\"y_size\", y.shape)\n",
        "      loss = F.nll_loss(output, y)\n",
        "      optimizer_metric.zero_grad()\n",
        "      loss.backward(retain_graph=True)\n",
        "      optimizer_metric.step()\n",
        "      #print(f\"epoch: {epoch}, loss: {loss}\")\n",
        "\n",
        "    with torch.inference_mode(): # turns off grafient tracking\n",
        "      for batch, test_dset in enumerate(testset):\n",
        "        X_test, y_test = test_dset\n",
        "        X_test = compress_batch(X_test)\n",
        "        X_test = X_test.to(device)\n",
        "        y_test = y_test.to(device)\n",
        "        # Do the forward pass\n",
        "        # test_pred = net_metric(torch.stack(list(map(compressed_batch, X_test))).to(device).view(-1,14*14))\n",
        "        test_pred = net_metric(X_test.view(-1,14*14))\n",
        "\n",
        "        # Calculate the loss\n",
        "        test_loss = F.nll_loss(test_pred, y_test)\n",
        "\n",
        "    # Print out whatss happening\n",
        "    if True :\n",
        "      #epoch_count.append(epoch)\n",
        "      loss_values.append(loss)\n",
        "      test_loss_values.append(test_loss)\n",
        "      print(f\"Epoch: {epoch} | Loss: {loss} | Test loss: {test_loss}\")\n",
        "\n",
        "  #dy_dx = torch.autograd.grad(loss, net.parameters())\n",
        "  #original_dy_dx = list((_.clone() for _ in dy_dx))"
      ]
    },
    {
      "cell_type": "code",
      "execution_count": 23,
      "metadata": {
        "id": "AsKlz92ohG4B",
        "colab": {
          "base_uri": "https://localhost:8080/"
        },
        "outputId": "0df0eef9-49dc-401c-b9fb-60f318c7bde1"
      },
      "outputs": [
        {
          "output_type": "stream",
          "name": "stdout",
          "text": [
            "Loaded model from your_model.pth\n"
          ]
        }
      ],
      "source": [
        "net_metric_path = 'your_model.pth'\n",
        "if os.path.isfile(net_metric_path):\n",
        "    # Load the saved model\n",
        "    net_metric = MNIST10Linear()\n",
        "    net_metric.load_state_dict(torch.load(net_metric_path))\n",
        "    net_metric.eval()  # Put the model in evaluation mode if needed\n",
        "    print(\"Loaded model from\", net_metric_path)\n",
        "else:\n",
        "    # If the saved model doesn't exist, call the training procedure\n",
        "    print(\"No saved model found. Training a new model...\")\n",
        "    net_metric = MNIST10Linear()\n",
        "    model = train_metric_network()\n",
        "    # Call your training procedure here\n",
        "    # For example:\n",
        "    # train_model(model)\n",
        "    # After training, save the model\n",
        "    torch.save(net_metric.state_dict(), net_metric_path)\n",
        "    print(\"Model saved at\", net_metric_path)\n"
      ]
    },
    {
      "cell_type": "code",
      "execution_count": 24,
      "metadata": {
        "id": "Wei56vzDa5PK"
      },
      "outputs": [],
      "source": [
        "def image_classification_error(nn, original_PIL, reconstructed_PIL):\n",
        "  with torch.inference_mode():\n",
        "    out1 = nn(original_PIL.view(-1,28*28))\n",
        "    out2 = nn(reconstructed_PIL.view(-1,28*28))\n",
        "  return torch.sum(abs(out1 - out2)).item()"
      ]
    },
    {
      "cell_type": "code",
      "execution_count": null,
      "metadata": {
        "id": "Og5EbXbnP_Es"
      },
      "outputs": [],
      "source": [
        "#def image_error(original_image, inversion_image):\n",
        "#  return abs(torch.sum(original_image[0].cpu() - inversion_image[0].cpu()).item())"
      ]
    },
    {
      "cell_type": "code",
      "execution_count": 25,
      "metadata": {
        "id": "JVV9kXrkWstB"
      },
      "outputs": [],
      "source": [
        "def show_privacy_evolution(privacy_leak_evolution):\n",
        "  x = np.arange(1, len(privacy_leak_evolution)+1)\n",
        "  default_x_ticks = range(len(x))\n",
        "  plt.plot(default_x_ticks, privacy_leak_evolution)\n",
        "  plt.xticks(default_x_ticks, x)\n",
        "  plt.xlabel(\"Samples per batch\")\n",
        "  plt.ylabel(\"Inversion error\")\n",
        "  plt.show()"
      ]
    },
    {
      "cell_type": "code",
      "execution_count": 26,
      "metadata": {
        "colab": {
          "base_uri": "https://localhost:8080/",
          "height": 175
        },
        "id": "2ZnBZIwDQT9E",
        "outputId": "cc58ffb2-f883-4a65-80b3-312ce65e1b93"
      },
      "outputs": [
        {
          "output_type": "error",
          "ename": "AttributeError",
          "evalue": "ignored",
          "traceback": [
            "\u001b[0;31m---------------------------------------------------------------------------\u001b[0m",
            "\u001b[0;31mAttributeError\u001b[0m                            Traceback (most recent call last)",
            "\u001b[0;32m<ipython-input-26-bc5f1a0adac8>\u001b[0m in \u001b[0;36m<cell line: 1>\u001b[0;34m()\u001b[0m\n\u001b[0;32m----> 1\u001b[0;31m \u001b[0mX\u001b[0m\u001b[0;34m.\u001b[0m\u001b[0mshape\u001b[0m\u001b[0;34m\u001b[0m\u001b[0;34m\u001b[0m\u001b[0m\n\u001b[0m",
            "\u001b[0;31mAttributeError\u001b[0m: 'list' object has no attribute 'shape'"
          ]
        }
      ],
      "source": [
        "X.shape"
      ]
    },
    {
      "cell_type": "code",
      "execution_count": 29,
      "metadata": {
        "id": "AJzUwE43qoXK"
      },
      "outputs": [],
      "source": [
        "\n",
        "def inversion():\n",
        "    global inversion_loss\n",
        "    global original_dy_dx\n",
        "    global reconstructed_images\n",
        "    global privacy_leak_evolution\n",
        "\n",
        "    tt = transforms.ToPILImage()\n",
        "    net.train()\n",
        "    image, label = next(iter(trainset))\n",
        "    image, label = image.to(device), label.to(device)\n",
        "    a = image.cpu()\n",
        "    plt.imshow(tt(a[0]))\n",
        "    inversion_outputs = net(image.to(device).view(-1,28*28))\n",
        "    label = F.one_hot(label, num_classes=10)\n",
        "    inversion_loss = cross_entropy_for_onehot(inversion_outputs.squeeze(), label.to(device))\n",
        "\n",
        "    dy_dx = torch.autograd.grad(inversion_loss, net.parameters())\n",
        "    # share the gradients with other clients\n",
        "    original_dy_dx = list((_.detach().clone() for _ in dy_dx))\n",
        "\n",
        "    torch.random.manual_seed(490)\n",
        "    dummy_data = torch.randn(image.size()).to(device)\n",
        "    torch.random.manual_seed(490)\n",
        "    dummy_label = torch.randn(label.size()).to(device)\n",
        "    dummy_data = dummy_data.to(device).requires_grad_(True)\n",
        "    dummy_label = dummy_label.to(device).requires_grad_(True)\n",
        "    #target = image[0].cpu()\n",
        "    #tt = transforms.ToPILImage()\n",
        "    #plt.imshow(tt(target))\n",
        "    #plt.title(\"Ground truth image\")\n",
        "    #print(\"Onehot label is %d.\" % torch.argmax(label[0], dim=-1))\n",
        "    optimizer_inversion = torch.optim.LBFGS([dummy_data, dummy_label], lr=1, max_iter=20)\n",
        "    criterion = cross_entropy_for_onehot\n",
        "    history = []\n",
        "    losses = []\n",
        "    not_convergence = True\n",
        "    iters = 0\n",
        "    #for iters in range(300):\n",
        "    while not_convergence:\n",
        "        #print(dummy_data[-1, -1,])\n",
        "        def closure():\n",
        "            optimizer_inversion.zero_grad()\n",
        "\n",
        "            pred = net(dummy_data.view(-1,14*14))\n",
        "            dummy_onehot_label = F.softmax(dummy_label, dim=-1)\n",
        "            dummy_loss = criterion(pred, dummy_onehot_label) # TODO: fix the gt_label to dummy_label in both code and slides.\n",
        "            dummy_dy_dx = torch.autograd.grad(dummy_loss, net.parameters(), create_graph=True)\n",
        "\n",
        "            grad_diff = 0\n",
        "            grad_count = 0\n",
        "            for gx, gy in zip(dummy_dy_dx, original_dy_dx): # TODO: fix the variablas here\n",
        "                grad_diff += ((gx - gy) ** 2).sum()\n",
        "            grad_diff.backward()\n",
        "            losses.append(grad_diff)\n",
        "            return grad_diff\n",
        "\n",
        "        optimizer_inversion.step(closure)\n",
        "        if iters % 10 == 0 and iters != 0:\n",
        "            current_loss = closure()\n",
        "            print(iters, \"%.4f\" % current_loss.item())\n",
        "            #losses.append(current_loss)\n",
        "            if(losses[iters] - losses[iters - 10] <= 0.001 and iters >= 100): # and iters >= 100\n",
        "              not_convergence = False\n",
        "        history.append(dummy_data[0].cpu())\n",
        "        iters = iters+1\n",
        "    print(dummy_data.size())\n",
        "    tt = transforms.ToPILImage()\n",
        "    reconstructed_images.append(tt(dummy_data[0].cpu()))\n",
        "\n",
        "    privacy_indicator = image_classification_error(net_metric, image, dummy_data)\n",
        "    privacy_leak_evolution.append(privacy_indicator)\n",
        "    #print(\"Onehot label is %d.\" % torch.argmax(dummy_label, dim=-1))"
      ]
    },
    {
      "cell_type": "code",
      "source": [
        "inversion()\n",
        "print(original_dy_dx)"
      ],
      "metadata": {
        "colab": {
          "base_uri": "https://localhost:8080/",
          "height": 1000
        },
        "id": "oiwfzkvP66I5",
        "outputId": "7399247a-d68f-4ce2-9610-9cd05f473594"
      },
      "execution_count": 30,
      "outputs": [
        {
          "output_type": "error",
          "ename": "RuntimeError",
          "evalue": "ignored",
          "traceback": [
            "\u001b[0;31m---------------------------------------------------------------------------\u001b[0m",
            "\u001b[0;31mRuntimeError\u001b[0m                              Traceback (most recent call last)",
            "\u001b[0;32m<ipython-input-30-7d32e6f6697d>\u001b[0m in \u001b[0;36m<cell line: 1>\u001b[0;34m()\u001b[0m\n\u001b[0;32m----> 1\u001b[0;31m \u001b[0minversion\u001b[0m\u001b[0;34m(\u001b[0m\u001b[0;34m)\u001b[0m\u001b[0;34m\u001b[0m\u001b[0;34m\u001b[0m\u001b[0m\n\u001b[0m\u001b[1;32m      2\u001b[0m \u001b[0mprint\u001b[0m\u001b[0;34m(\u001b[0m\u001b[0moriginal_dy_dx\u001b[0m\u001b[0;34m)\u001b[0m\u001b[0;34m\u001b[0m\u001b[0;34m\u001b[0m\u001b[0m\n",
            "\u001b[0;32m<ipython-input-29-76499fe6016e>\u001b[0m in \u001b[0;36minversion\u001b[0;34m()\u001b[0m\n\u001b[1;32m     11\u001b[0m     \u001b[0ma\u001b[0m \u001b[0;34m=\u001b[0m \u001b[0mimage\u001b[0m\u001b[0;34m.\u001b[0m\u001b[0mcpu\u001b[0m\u001b[0;34m(\u001b[0m\u001b[0;34m)\u001b[0m\u001b[0;34m\u001b[0m\u001b[0;34m\u001b[0m\u001b[0m\n\u001b[1;32m     12\u001b[0m     \u001b[0mplt\u001b[0m\u001b[0;34m.\u001b[0m\u001b[0mimshow\u001b[0m\u001b[0;34m(\u001b[0m\u001b[0mtt\u001b[0m\u001b[0;34m(\u001b[0m\u001b[0ma\u001b[0m\u001b[0;34m[\u001b[0m\u001b[0;36m0\u001b[0m\u001b[0;34m]\u001b[0m\u001b[0;34m)\u001b[0m\u001b[0;34m)\u001b[0m\u001b[0;34m\u001b[0m\u001b[0;34m\u001b[0m\u001b[0m\n\u001b[0;32m---> 13\u001b[0;31m     \u001b[0minversion_outputs\u001b[0m \u001b[0;34m=\u001b[0m \u001b[0mnet\u001b[0m\u001b[0;34m(\u001b[0m\u001b[0mimage\u001b[0m\u001b[0;34m.\u001b[0m\u001b[0mto\u001b[0m\u001b[0;34m(\u001b[0m\u001b[0mdevice\u001b[0m\u001b[0;34m)\u001b[0m\u001b[0;34m.\u001b[0m\u001b[0mview\u001b[0m\u001b[0;34m(\u001b[0m\u001b[0;34m-\u001b[0m\u001b[0;36m1\u001b[0m\u001b[0;34m,\u001b[0m\u001b[0;36m28\u001b[0m\u001b[0;34m*\u001b[0m\u001b[0;36m28\u001b[0m\u001b[0;34m)\u001b[0m\u001b[0;34m)\u001b[0m\u001b[0;34m\u001b[0m\u001b[0;34m\u001b[0m\u001b[0m\n\u001b[0m\u001b[1;32m     14\u001b[0m     \u001b[0mlabel\u001b[0m \u001b[0;34m=\u001b[0m \u001b[0mF\u001b[0m\u001b[0;34m.\u001b[0m\u001b[0mone_hot\u001b[0m\u001b[0;34m(\u001b[0m\u001b[0mlabel\u001b[0m\u001b[0;34m,\u001b[0m \u001b[0mnum_classes\u001b[0m\u001b[0;34m=\u001b[0m\u001b[0;36m10\u001b[0m\u001b[0;34m)\u001b[0m\u001b[0;34m\u001b[0m\u001b[0;34m\u001b[0m\u001b[0m\n\u001b[1;32m     15\u001b[0m     \u001b[0minversion_loss\u001b[0m \u001b[0;34m=\u001b[0m \u001b[0mcross_entropy_for_onehot\u001b[0m\u001b[0;34m(\u001b[0m\u001b[0minversion_outputs\u001b[0m\u001b[0;34m.\u001b[0m\u001b[0msqueeze\u001b[0m\u001b[0;34m(\u001b[0m\u001b[0;34m)\u001b[0m\u001b[0;34m,\u001b[0m \u001b[0mlabel\u001b[0m\u001b[0;34m.\u001b[0m\u001b[0mto\u001b[0m\u001b[0;34m(\u001b[0m\u001b[0mdevice\u001b[0m\u001b[0;34m)\u001b[0m\u001b[0;34m)\u001b[0m\u001b[0;34m\u001b[0m\u001b[0;34m\u001b[0m\u001b[0m\n",
            "\u001b[0;32m/usr/local/lib/python3.10/dist-packages/torch/nn/modules/module.py\u001b[0m in \u001b[0;36m_call_impl\u001b[0;34m(self, *args, **kwargs)\u001b[0m\n\u001b[1;32m   1499\u001b[0m                 \u001b[0;32mor\u001b[0m \u001b[0m_global_backward_pre_hooks\u001b[0m \u001b[0;32mor\u001b[0m \u001b[0m_global_backward_hooks\u001b[0m\u001b[0;34m\u001b[0m\u001b[0;34m\u001b[0m\u001b[0m\n\u001b[1;32m   1500\u001b[0m                 or _global_forward_hooks or _global_forward_pre_hooks):\n\u001b[0;32m-> 1501\u001b[0;31m             \u001b[0;32mreturn\u001b[0m \u001b[0mforward_call\u001b[0m\u001b[0;34m(\u001b[0m\u001b[0;34m*\u001b[0m\u001b[0margs\u001b[0m\u001b[0;34m,\u001b[0m \u001b[0;34m**\u001b[0m\u001b[0mkwargs\u001b[0m\u001b[0;34m)\u001b[0m\u001b[0;34m\u001b[0m\u001b[0;34m\u001b[0m\u001b[0m\n\u001b[0m\u001b[1;32m   1502\u001b[0m         \u001b[0;31m# Do not call functions when jit is used\u001b[0m\u001b[0;34m\u001b[0m\u001b[0;34m\u001b[0m\u001b[0m\n\u001b[1;32m   1503\u001b[0m         \u001b[0mfull_backward_hooks\u001b[0m\u001b[0;34m,\u001b[0m \u001b[0mnon_full_backward_hooks\u001b[0m \u001b[0;34m=\u001b[0m \u001b[0;34m[\u001b[0m\u001b[0;34m]\u001b[0m\u001b[0;34m,\u001b[0m \u001b[0;34m[\u001b[0m\u001b[0;34m]\u001b[0m\u001b[0;34m\u001b[0m\u001b[0;34m\u001b[0m\u001b[0m\n",
            "\u001b[0;32m<ipython-input-3-4cb5819bdab7>\u001b[0m in \u001b[0;36mforward\u001b[0;34m(self, x)\u001b[0m\n\u001b[1;32m      8\u001b[0m \u001b[0;34m\u001b[0m\u001b[0m\n\u001b[1;32m      9\u001b[0m       \u001b[0;32mdef\u001b[0m \u001b[0mforward\u001b[0m\u001b[0;34m(\u001b[0m\u001b[0mself\u001b[0m\u001b[0;34m,\u001b[0m \u001b[0mx\u001b[0m\u001b[0;34m)\u001b[0m\u001b[0;34m:\u001b[0m\u001b[0;34m\u001b[0m\u001b[0;34m\u001b[0m\u001b[0m\n\u001b[0;32m---> 10\u001b[0;31m           \u001b[0mx\u001b[0m \u001b[0;34m=\u001b[0m \u001b[0mF\u001b[0m\u001b[0;34m.\u001b[0m\u001b[0mrelu\u001b[0m\u001b[0;34m(\u001b[0m\u001b[0mself\u001b[0m\u001b[0;34m.\u001b[0m\u001b[0mfc1\u001b[0m\u001b[0;34m(\u001b[0m\u001b[0mx\u001b[0m\u001b[0;34m)\u001b[0m\u001b[0;34m)\u001b[0m\u001b[0;34m\u001b[0m\u001b[0;34m\u001b[0m\u001b[0m\n\u001b[0m\u001b[1;32m     11\u001b[0m           \u001b[0mx\u001b[0m \u001b[0;34m=\u001b[0m \u001b[0mF\u001b[0m\u001b[0;34m.\u001b[0m\u001b[0mrelu\u001b[0m\u001b[0;34m(\u001b[0m\u001b[0mself\u001b[0m\u001b[0;34m.\u001b[0m\u001b[0mfc2\u001b[0m\u001b[0;34m(\u001b[0m\u001b[0mx\u001b[0m\u001b[0;34m)\u001b[0m\u001b[0;34m)\u001b[0m\u001b[0;34m\u001b[0m\u001b[0;34m\u001b[0m\u001b[0m\n\u001b[1;32m     12\u001b[0m           \u001b[0mx\u001b[0m \u001b[0;34m=\u001b[0m \u001b[0mF\u001b[0m\u001b[0;34m.\u001b[0m\u001b[0mrelu\u001b[0m\u001b[0;34m(\u001b[0m\u001b[0mself\u001b[0m\u001b[0;34m.\u001b[0m\u001b[0mfc3\u001b[0m\u001b[0;34m(\u001b[0m\u001b[0mx\u001b[0m\u001b[0;34m)\u001b[0m\u001b[0;34m)\u001b[0m\u001b[0;34m\u001b[0m\u001b[0;34m\u001b[0m\u001b[0m\n",
            "\u001b[0;32m/usr/local/lib/python3.10/dist-packages/torch/nn/modules/module.py\u001b[0m in \u001b[0;36m_call_impl\u001b[0;34m(self, *args, **kwargs)\u001b[0m\n\u001b[1;32m   1499\u001b[0m                 \u001b[0;32mor\u001b[0m \u001b[0m_global_backward_pre_hooks\u001b[0m \u001b[0;32mor\u001b[0m \u001b[0m_global_backward_hooks\u001b[0m\u001b[0;34m\u001b[0m\u001b[0;34m\u001b[0m\u001b[0m\n\u001b[1;32m   1500\u001b[0m                 or _global_forward_hooks or _global_forward_pre_hooks):\n\u001b[0;32m-> 1501\u001b[0;31m             \u001b[0;32mreturn\u001b[0m \u001b[0mforward_call\u001b[0m\u001b[0;34m(\u001b[0m\u001b[0;34m*\u001b[0m\u001b[0margs\u001b[0m\u001b[0;34m,\u001b[0m \u001b[0;34m**\u001b[0m\u001b[0mkwargs\u001b[0m\u001b[0;34m)\u001b[0m\u001b[0;34m\u001b[0m\u001b[0;34m\u001b[0m\u001b[0m\n\u001b[0m\u001b[1;32m   1502\u001b[0m         \u001b[0;31m# Do not call functions when jit is used\u001b[0m\u001b[0;34m\u001b[0m\u001b[0;34m\u001b[0m\u001b[0m\n\u001b[1;32m   1503\u001b[0m         \u001b[0mfull_backward_hooks\u001b[0m\u001b[0;34m,\u001b[0m \u001b[0mnon_full_backward_hooks\u001b[0m \u001b[0;34m=\u001b[0m \u001b[0;34m[\u001b[0m\u001b[0;34m]\u001b[0m\u001b[0;34m,\u001b[0m \u001b[0;34m[\u001b[0m\u001b[0;34m]\u001b[0m\u001b[0;34m\u001b[0m\u001b[0;34m\u001b[0m\u001b[0m\n",
            "\u001b[0;32m/usr/local/lib/python3.10/dist-packages/torch/nn/modules/linear.py\u001b[0m in \u001b[0;36mforward\u001b[0;34m(self, input)\u001b[0m\n\u001b[1;32m    112\u001b[0m \u001b[0;34m\u001b[0m\u001b[0m\n\u001b[1;32m    113\u001b[0m     \u001b[0;32mdef\u001b[0m \u001b[0mforward\u001b[0m\u001b[0;34m(\u001b[0m\u001b[0mself\u001b[0m\u001b[0;34m,\u001b[0m \u001b[0minput\u001b[0m\u001b[0;34m:\u001b[0m \u001b[0mTensor\u001b[0m\u001b[0;34m)\u001b[0m \u001b[0;34m->\u001b[0m \u001b[0mTensor\u001b[0m\u001b[0;34m:\u001b[0m\u001b[0;34m\u001b[0m\u001b[0;34m\u001b[0m\u001b[0m\n\u001b[0;32m--> 114\u001b[0;31m         \u001b[0;32mreturn\u001b[0m \u001b[0mF\u001b[0m\u001b[0;34m.\u001b[0m\u001b[0mlinear\u001b[0m\u001b[0;34m(\u001b[0m\u001b[0minput\u001b[0m\u001b[0;34m,\u001b[0m \u001b[0mself\u001b[0m\u001b[0;34m.\u001b[0m\u001b[0mweight\u001b[0m\u001b[0;34m,\u001b[0m \u001b[0mself\u001b[0m\u001b[0;34m.\u001b[0m\u001b[0mbias\u001b[0m\u001b[0;34m)\u001b[0m\u001b[0;34m\u001b[0m\u001b[0;34m\u001b[0m\u001b[0m\n\u001b[0m\u001b[1;32m    115\u001b[0m \u001b[0;34m\u001b[0m\u001b[0m\n\u001b[1;32m    116\u001b[0m     \u001b[0;32mdef\u001b[0m \u001b[0mextra_repr\u001b[0m\u001b[0;34m(\u001b[0m\u001b[0mself\u001b[0m\u001b[0;34m)\u001b[0m \u001b[0;34m->\u001b[0m \u001b[0mstr\u001b[0m\u001b[0;34m:\u001b[0m\u001b[0;34m\u001b[0m\u001b[0;34m\u001b[0m\u001b[0m\n",
            "\u001b[0;31mRuntimeError\u001b[0m: mat1 and mat2 shapes cannot be multiplied (30x784 and 196x64)"
          ]
        },
        {
          "output_type": "display_data",
          "data": {
            "text/plain": [
              "<Figure size 640x480 with 1 Axes>"
            ],
            "image/png": "[encoded data removed]"
          },
          "metadata": {}
        }
      ]
    },
    {
      "cell_type": "code",
      "execution_count": null,
      "metadata": {
        "id": "jbLUap3xVYMY"
      },
      "outputs": [],
      "source": [
        "def show_original_image():\n",
        "  tt = transforms.ToPILImage()\n",
        "  plt.imshow(tt(image[0].cpu()))\n",
        "  plt.title(\"Reconstructed image\")\n",
        "  #print(\"Onehot label is %d.\" % torch.argmax(dummy_label, dim=-1))"
      ]
    },
    {
      "cell_type": "code",
      "execution_count": null,
      "metadata": {
        "id": "u5_Z3CRB_Md0"
      },
      "outputs": [],
      "source": [
        "reconstructed_images = []\n",
        "privacy_leak_evolution = []\n",
        "for i in range(1, 15):\n",
        "  trainset = wrapper.DataLoader(train, batch_size= i, shuffle=False)\n",
        "  testset = wrapper.DataLoader(test, batch_size= i, shuffle=False)\n",
        "  inversion()\n",
        "\n"
      ]
    },
    {
      "cell_type": "code",
      "execution_count": null,
      "metadata": {
        "id": "t3UeuXpzAFj1"
      },
      "outputs": [],
      "source": [
        "plt.imshow(reconstructed_images[13])\n",
        "plt.title(\"Reconstructed image\")\n",
        "#print(\"Onehot label is %d.\" % torch.argmax(dummy_label, dim=-1))"
      ]
    },
    {
      "cell_type": "code",
      "execution_count": null,
      "metadata": {
        "id": "Tv7dylqmDW2N"
      },
      "outputs": [],
      "source": [
        "for i, elem in enumerate(reconstructed_images):\n",
        "  elem.save('images_per_batch_size_exp_#' + str(i) + \".png\")"
      ]
    },
    {
      "cell_type": "code",
      "execution_count": null,
      "metadata": {
        "id": "fsvUZqh1Hzat"
      },
      "outputs": [],
      "source": [
        "privacy_leak_evolution = [0.0807027816772461,\n",
        " 236.84188842773438,\n",
        " 283.19647216796875,\n",
        " 623.4032592773438,\n",
        " 750.733642578125,\n",
        " 849.158203125,\n",
        " 1037.207763671875,\n",
        " 1512.766845703125,\n",
        " 1785.4864501953125,\n",
        " 2585.1201171875,\n",
        " 3018.494873046875,\n",
        " 3099.3759765625,\n",
        " 4234.27880859375,\n",
        " 4146.06689453125]\n",
        "show_privacy_evolution(privacy_leak_evolution)"
      ]
    },
    {
      "cell_type": "code",
      "execution_count": null,
      "metadata": {
        "id": "ByklcIS3a0Fn"
      },
      "outputs": [],
      "source": [
        "privacy_leak_evolution"
      ]
    }
  ],
  "metadata": {
    "accelerator": "GPU",
    "colab": {
      "provenance": []
    },
    "gpuClass": "standard",
    "kernelspec": {
      "display_name": "Python 3",
      "name": "python3"
    },
    "language_info": {
      "name": "python"
    }
  },
  "nbformat": 4,
  "nbformat_minor": 0
}